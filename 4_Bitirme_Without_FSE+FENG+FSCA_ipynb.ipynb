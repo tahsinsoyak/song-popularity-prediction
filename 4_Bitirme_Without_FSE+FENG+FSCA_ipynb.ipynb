{
  "cells": [
    {
      "cell_type": "code",
      "execution_count": null,
      "metadata": {
        "colab": {
          "base_uri": "https://localhost:8080/"
        },
        "id": "MCPtgVG6IlIc",
        "outputId": "42b8b1a6-7f20-4bdd-c944-671e8e8d4dc6"
      },
      "outputs": [
        {
          "output_type": "stream",
          "name": "stdout",
          "text": [
            "RandomForestClassifier\t0.837517\n",
            "XGBClassifier\t0.834875\n",
            "DecisionTreeClassifier\t0.795244\n",
            "LogisticRegression\t0.771466\n",
            "LinearSVC\t0.771466\n",
            "KNeighborsClassifier\t0.767503\n"
          ]
        },
        {
          "output_type": "stream",
          "name": "stderr",
          "text": [
            "/usr/local/lib/python3.10/dist-packages/sklearn/svm/_base.py:1244: ConvergenceWarning: Liblinear failed to converge, increase the number of iterations.\n",
            "  warnings.warn(\n"
          ]
        }
      ],
      "source": [
        "import pandas as pd\n",
        "from sklearn.ensemble import RandomForestClassifier\n",
        "from sklearn.tree import DecisionTreeClassifier\n",
        "from sklearn.neighbors import KNeighborsClassifier\n",
        "from sklearn.linear_model import LogisticRegression\n",
        "from xgboost import XGBClassifier\n",
        "from sklearn.svm import LinearSVC\n",
        "from sklearn.model_selection import train_test_split\n",
        "from sklearn.metrics import accuracy_score\n",
        "\n",
        "# Özellikler\n",
        "features = [\"acousticness\", \"danceability\", \"duration_ms\", \"energy\", \"instrumentalness\", \"key\", \"liveness\",\n",
        "            \"mode\", \"speechiness\", \"tempo\", \"time_signature\", \"valence\", 'loudness',]\n",
        "# Veri setini yükleme\n",
        "dataframe = pd.read_csv('/content/drive/MyDrive/bitirme/out.csv')\n",
        "\n",
        "# Boş değerleri içeren satırları silme\n",
        "dataframe.dropna(inplace=True)\n",
        "\n",
        "dataframe['popularity'] = dataframe['popularity'].apply(lambda x: 1 if x > 50 else 0)\n",
        "\n",
        "# X ve y ayırma\n",
        "X = dataframe[features]\n",
        "y = dataframe['popularity']\n",
        "\n",
        "# Eğitim ve test veri setlerini oluşturma\n",
        "X_train, X_test, y_train, y_test = train_test_split(X, y, test_size=0.2, random_state=42)\n",
        "\n",
        "# Sınıflandırma modelleri\n",
        "models = [\n",
        "    RandomForestClassifier(),\n",
        "    DecisionTreeClassifier(),\n",
        "    KNeighborsClassifier(),\n",
        "    LogisticRegression(),\n",
        "    XGBClassifier(),\n",
        "    LinearSVC()\n",
        "]\n",
        "\n",
        "# Performans ölçümlerini saklamak için bir liste oluşturma\n",
        "performance_scores = []\n",
        "\n",
        "# Modelleri eğitme ve performans ölçümü\n",
        "for model in models:\n",
        "    model.fit(X_train, y_train)\n",
        "    y_pred = model.predict(X_test)\n",
        "    accuracy = accuracy_score(y_test, y_pred)\n",
        "    performance_scores.append((model.__class__.__name__, accuracy))\n",
        "\n",
        "# Performans skorlarına göre sıralama\n",
        "performance_scores.sort(key=lambda x: x[1], reverse=True)\n",
        "\n",
        "# Sıralanmış performans skorlarını yazdırma\n",
        "for model_name, accuracy in performance_scores:\n",
        "    print(f\"{model_name}\\t{accuracy:.6f}\")"
      ]
    },
    {
      "cell_type": "code",
      "source": [
        "import pandas as pd\n",
        "from sklearn.ensemble import RandomForestClassifier\n",
        "from sklearn.tree import DecisionTreeClassifier\n",
        "from sklearn.neighbors import KNeighborsClassifier\n",
        "from sklearn.linear_model import LogisticRegression\n",
        "from xgboost import XGBClassifier\n",
        "from sklearn.svm import LinearSVC\n",
        "from sklearn.model_selection import train_test_split\n",
        "from sklearn.metrics import accuracy_score\n",
        "\n",
        "# Özellikler\n",
        "features = [\"acousticness\", \"danceability\", \"duration_ms\", \"energy\", \"instrumentalness\", \"key\", \"liveness\",\n",
        "            \"mode\", \"speechiness\", \"tempo\", \"time_signature\", \"valence\", 'loudness',]\n",
        "# Veri setini yükleme\n",
        "dataframe = pd.read_csv('/content/drive/MyDrive/bitirme/dataset.csv')\n",
        "\n",
        "# Boş değerleri içeren satırları silme\n",
        "dataframe.dropna(inplace=True)\n",
        "\n",
        "dataframe['popularity'] = dataframe['popularity'].apply(lambda x: 1 if x > 50 else 0)\n",
        "\n",
        "# X ve y ayırma\n",
        "X = dataframe[features]\n",
        "y = dataframe['popularity']\n",
        "\n",
        "# Eğitim ve test veri setlerini oluşturma\n",
        "X_train, X_test, y_train, y_test = train_test_split(X, y, test_size=0.2, random_state=42)\n",
        "\n",
        "# Sınıflandırma modelleri\n",
        "models = [\n",
        "    RandomForestClassifier(),\n",
        "    DecisionTreeClassifier(),\n",
        "    KNeighborsClassifier(),\n",
        "    LogisticRegression(),\n",
        "    XGBClassifier(),\n",
        "    LinearSVC()\n",
        "]\n",
        "\n",
        "# Performans ölçümlerini saklamak için bir liste oluşturma\n",
        "performance_scores = []\n",
        "\n",
        "# Modelleri eğitme ve performans ölçümü\n",
        "for model in models:\n",
        "    model.fit(X_train, y_train)\n",
        "    y_pred = model.predict(X_test)\n",
        "    accuracy = accuracy_score(y_test, y_pred)\n",
        "    performance_scores.append((model.__class__.__name__, accuracy))\n",
        "\n",
        "# Performans skorlarına göre sıralama\n",
        "performance_scores.sort(key=lambda x: x[1], reverse=True)\n",
        "\n",
        "# Sıralanmış performans skorlarını yazdırma\n",
        "for model_name, accuracy in performance_scores:\n",
        "    print(f\"{model_name}\\t{accuracy:.6f}\")"
      ],
      "metadata": {
        "colab": {
          "base_uri": "https://localhost:8080/"
        },
        "id": "OeF4EgFFMAYa",
        "outputId": "2ae7aec5-f634-4a49-8a74-186c3cfa2865"
      },
      "execution_count": null,
      "outputs": [
        {
          "output_type": "stream",
          "name": "stdout",
          "text": [
            "RandomForestClassifier\t0.861009\n",
            "DecisionTreeClassifier\t0.788772\n",
            "XGBClassifier\t0.771184\n",
            "LogisticRegression\t0.759342\n",
            "LinearSVC\t0.759342\n",
            "KNeighborsClassifier\t0.734474\n"
          ]
        },
        {
          "output_type": "stream",
          "name": "stderr",
          "text": [
            "/usr/local/lib/python3.10/dist-packages/sklearn/svm/_base.py:1244: ConvergenceWarning: Liblinear failed to converge, increase the number of iterations.\n",
            "  warnings.warn(\n"
          ]
        }
      ]
    },
    {
      "cell_type": "code",
      "source": [
        "import pandas as pd\n",
        "from sklearn.ensemble import RandomForestClassifier\n",
        "from sklearn.tree import DecisionTreeClassifier\n",
        "from sklearn.neighbors import KNeighborsClassifier\n",
        "from sklearn.linear_model import LogisticRegression\n",
        "from xgboost import XGBClassifier\n",
        "from sklearn.svm import LinearSVC\n",
        "from sklearn.model_selection import train_test_split\n",
        "from sklearn.metrics import accuracy_score\n",
        "\n",
        "# Özellikler\n",
        "features = [\"acousticness\", \"danceability\", \"duration_ms\", \"energy\", \"instrumentalness\", \"key\", \"liveness\",\n",
        "            \"mode\", \"speechiness\", \"tempo\", \"time_signature\", \"valence\", 'loudness',]\n",
        "# Veri setini yükleme\n",
        "dataframe = pd.read_csv('/content/drive/MyDrive/bitirme/tracks.csv')\n",
        "\n",
        "# Boş değerleri içeren satırları silme\n",
        "dataframe.dropna(inplace=True)\n",
        "\n",
        "dataframe['popularity'] = dataframe['popularity'].apply(lambda x: 1 if x > 50 else 0)\n",
        "\n",
        "# X ve y ayırma\n",
        "X = dataframe[features]\n",
        "y = dataframe['popularity']\n",
        "\n",
        "# Eğitim ve test veri setlerini oluşturma\n",
        "X_train, X_test, y_train, y_test = train_test_split(X, y, test_size=0.2, random_state=42)\n",
        "\n",
        "# Sınıflandırma modelleri\n",
        "models = [\n",
        "    RandomForestClassifier(),\n",
        "    DecisionTreeClassifier(),\n",
        "    KNeighborsClassifier(),\n",
        "    LogisticRegression(),\n",
        "    XGBClassifier(),\n",
        "    LinearSVC()\n",
        "]\n",
        "\n",
        "# Performans ölçümlerini saklamak için bir liste oluşturma\n",
        "performance_scores = []\n",
        "\n",
        "# Modelleri eğitme ve performans ölçümü\n",
        "for model in models:\n",
        "    model.fit(X_train, y_train)\n",
        "    y_pred = model.predict(X_test)\n",
        "    accuracy = accuracy_score(y_test, y_pred)\n",
        "    performance_scores.append((model.__class__.__name__, accuracy))\n",
        "\n",
        "# Performans skorlarına göre sıralama\n",
        "performance_scores.sort(key=lambda x: x[1], reverse=True)\n",
        "\n",
        "# Sıralanmış performans skorlarını yazdırma\n",
        "for model_name, accuracy in performance_scores:\n",
        "    print(f\"{model_name}\\t{accuracy:.6f}\")"
      ],
      "metadata": {
        "colab": {
          "base_uri": "https://localhost:8080/"
        },
        "id": "jf3-wYCsMC6X",
        "outputId": "69e67775-ab7b-47ca-eb17-2db0f115fa6c"
      },
      "execution_count": null,
      "outputs": [
        {
          "output_type": "stream",
          "name": "stdout",
          "text": [
            "RandomForestClassifier\t0.888213\n",
            "XGBClassifier\t0.885460\n",
            "LinearSVC\t0.883755\n",
            "LogisticRegression\t0.883704\n",
            "KNeighborsClassifier\t0.870305\n",
            "DecisionTreeClassifier\t0.822291\n"
          ]
        },
        {
          "output_type": "stream",
          "name": "stderr",
          "text": [
            "/usr/local/lib/python3.10/dist-packages/sklearn/svm/_base.py:1244: ConvergenceWarning: Liblinear failed to converge, increase the number of iterations.\n",
            "  warnings.warn(\n"
          ]
        }
      ]
    }
  ],
  "metadata": {
    "colab": {
      "provenance": []
    },
    "kernelspec": {
      "display_name": "Python 3",
      "name": "python3"
    },
    "language_info": {
      "name": "python"
    }
  },
  "nbformat": 4,
  "nbformat_minor": 0
}